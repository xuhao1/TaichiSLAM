{
 "cells": [
  {
   "cell_type": "code",
   "execution_count": 1,
   "metadata": {},
   "outputs": [
    {
     "name": "stdout",
     "output_type": "stream",
     "text": [
      "[Taichi] version 1.0.3, llvm 10.0.0, commit fae94a21, linux, python 3.8.5\n",
      "[I 07/10/22 06:20:59.823 15188] [shell.py:_shell_pop_print@33] Graphical python shell detected, using wrapped sys.stdout\n",
      "[Taichi] Starting on arch=x64\n"
     ]
    }
   ],
   "source": [
    "import taichi as ti\n",
    "ti.init()"
   ]
  },
  {
   "cell_type": "code",
   "execution_count": 4,
   "metadata": {},
   "outputs": [
    {
     "name": "stdout",
     "output_type": "stream",
     "text": [
      "[[[[  0   0   0]\n",
      "   [  0   0   0]\n",
      "   [  0   0   0]]\n",
      "\n",
      "  [[  0   0   0]\n",
      "   [  0   0   0]\n",
      "   [  0   0   0]]\n",
      "\n",
      "  [[  0   0   0]\n",
      "   [  0   0   0]\n",
      "   [  0   0 100]]]]\n",
      "active 1\n",
      "active 0\n",
      "0\n"
     ]
    }
   ],
   "source": [
    "# B = ti.root.pointer(ti.i, 10)\n",
    "# B1 = B.pointer(ti.j, 10)\n",
    "x = ti.field(dtype=ti.i32)\n",
    "B0 = ti.root.pointer(ti.ijkl, (1, 3,3,3))\n",
    "B0.place(x)\n",
    "\n",
    "x[1, 2, 2, 2] = 100\n",
    "print(x)\n",
    "@ti.kernel\n",
    "def test():\n",
    "    print(\"active\", ti.is_active(B0, [1, 2, 2, 2]))\n",
    "test()\n",
    "B0.deactivate_all()\n",
    "test()\n",
    "# print(x)\n",
    "print(x[1, 2,2,2])\n"
   ]
  },
  {
   "cell_type": "code",
   "execution_count": 7,
   "metadata": {},
   "outputs": [
    {
     "ename": "RuntimeError",
     "evalue": "These field(s) are not placed:\n============================================\n  File \"/home/xuhao/anaconda3/lib/python3.8/runpy.py\", line 194, in _run_module_as_main\n    return _run_code(code, main_globals, None,\n  File \"/home/xuhao/anaconda3/lib/python3.8/runpy.py\", line 87, in _run_code\n    exec(code, run_globals)\n  File \"/home/xuhao/.local/lib/python3.8/site-packages/ipykernel_launcher.py\", line 17, in <module>\n    app.launch_new_instance()\n  File \"/home/xuhao/.local/lib/python3.8/site-packages/traitlets/config/application.py\", line 976, in launch_instance\n    app.start()\n  File \"/home/xuhao/.local/lib/python3.8/site-packages/ipykernel/kernelapp.py\", line 712, in start\n    self.io_loop.start()\n  File \"/home/xuhao/.local/lib/python3.8/site-packages/tornado/platform/asyncio.py\", line 199, in start\n    self.asyncio_loop.run_forever()\n  File \"/home/xuhao/anaconda3/lib/python3.8/asyncio/base_events.py\", line 570, in run_forever\n    self._run_once()\n  File \"/home/xuhao/anaconda3/lib/python3.8/asyncio/base_events.py\", line 1859, in _run_once\n    handle._run()\n  File \"/home/xuhao/anaconda3/lib/python3.8/asyncio/events.py\", line 81, in _run\n    self._context.run(self._callback, *self._args)\n  File \"/home/xuhao/.local/lib/python3.8/site-packages/ipykernel/kernelbase.py\", line 504, in dispatch_queue\n    await self.process_one()\n  File \"/home/xuhao/.local/lib/python3.8/site-packages/ipykernel/kernelbase.py\", line 493, in process_one\n    await dispatch(*args)\n  File \"/home/xuhao/.local/lib/python3.8/site-packages/ipykernel/kernelbase.py\", line 400, in dispatch_shell\n    await result\n  File \"/home/xuhao/.local/lib/python3.8/site-packages/ipykernel/kernelbase.py\", line 724, in execute_request\n    reply_content = await reply_content\n  File \"/home/xuhao/.local/lib/python3.8/site-packages/ipykernel/ipkernel.py\", line 383, in do_execute\n    res = shell.run_cell(\n  File \"/home/xuhao/.local/lib/python3.8/site-packages/ipykernel/zmqshell.py\", line 528, in run_cell\n    return super().run_cell(*args, **kwargs)\n  File \"/home/xuhao/.local/lib/python3.8/site-packages/IPython/core/interactiveshell.py\", line 2881, in run_cell\n    result = self._run_cell(\n  File \"/home/xuhao/.local/lib/python3.8/site-packages/IPython/core/interactiveshell.py\", line 2936, in _run_cell\n    return runner(coro)\n  File \"/home/xuhao/.local/lib/python3.8/site-packages/IPython/core/async_helpers.py\", line 129, in _pseudo_sync_runner\n    coro.send(None)\n  File \"/home/xuhao/.local/lib/python3.8/site-packages/IPython/core/interactiveshell.py\", line 3135, in run_cell_async\n    has_raised = await self.run_ast_nodes(code_ast.body, cell_name,\n  File \"/home/xuhao/.local/lib/python3.8/site-packages/IPython/core/interactiveshell.py\", line 3338, in run_ast_nodes\n    if await self.run_code(code, result, async_=asy):\n  File \"/home/xuhao/.local/lib/python3.8/site-packages/IPython/core/interactiveshell.py\", line 3398, in run_code\n    exec(code_obj, self.user_global_ns, self.user_ns)\n  File \"/tmp/ipykernel_11759/2236958440.py\", line 3, in <cell line: 3>\n    xs = [ti.field(dtype=ti.i32), ti.field(dtype=ti.i32)]\n============================================\n  File \"/home/xuhao/anaconda3/lib/python3.8/runpy.py\", line 194, in _run_module_as_main\n    return _run_code(code, main_globals, None,\n  File \"/home/xuhao/anaconda3/lib/python3.8/runpy.py\", line 87, in _run_code\n    exec(code, run_globals)\n  File \"/home/xuhao/.local/lib/python3.8/site-packages/ipykernel_launcher.py\", line 17, in <module>\n    app.launch_new_instance()\n  File \"/home/xuhao/.local/lib/python3.8/site-packages/traitlets/config/application.py\", line 976, in launch_instance\n    app.start()\n  File \"/home/xuhao/.local/lib/python3.8/site-packages/ipykernel/kernelapp.py\", line 712, in start\n    self.io_loop.start()\n  File \"/home/xuhao/.local/lib/python3.8/site-packages/tornado/platform/asyncio.py\", line 199, in start\n    self.asyncio_loop.run_forever()\n  File \"/home/xuhao/anaconda3/lib/python3.8/asyncio/base_events.py\", line 570, in run_forever\n    self._run_once()\n  File \"/home/xuhao/anaconda3/lib/python3.8/asyncio/base_events.py\", line 1859, in _run_once\n    handle._run()\n  File \"/home/xuhao/anaconda3/lib/python3.8/asyncio/events.py\", line 81, in _run\n    self._context.run(self._callback, *self._args)\n  File \"/home/xuhao/.local/lib/python3.8/site-packages/ipykernel/kernelbase.py\", line 504, in dispatch_queue\n    await self.process_one()\n  File \"/home/xuhao/.local/lib/python3.8/site-packages/ipykernel/kernelbase.py\", line 493, in process_one\n    await dispatch(*args)\n  File \"/home/xuhao/.local/lib/python3.8/site-packages/ipykernel/kernelbase.py\", line 400, in dispatch_shell\n    await result\n  File \"/home/xuhao/.local/lib/python3.8/site-packages/ipykernel/kernelbase.py\", line 724, in execute_request\n    reply_content = await reply_content\n  File \"/home/xuhao/.local/lib/python3.8/site-packages/ipykernel/ipkernel.py\", line 383, in do_execute\n    res = shell.run_cell(\n  File \"/home/xuhao/.local/lib/python3.8/site-packages/ipykernel/zmqshell.py\", line 528, in run_cell\n    return super().run_cell(*args, **kwargs)\n  File \"/home/xuhao/.local/lib/python3.8/site-packages/IPython/core/interactiveshell.py\", line 2881, in run_cell\n    result = self._run_cell(\n  File \"/home/xuhao/.local/lib/python3.8/site-packages/IPython/core/interactiveshell.py\", line 2936, in _run_cell\n    return runner(coro)\n  File \"/home/xuhao/.local/lib/python3.8/site-packages/IPython/core/async_helpers.py\", line 129, in _pseudo_sync_runner\n    coro.send(None)\n  File \"/home/xuhao/.local/lib/python3.8/site-packages/IPython/core/interactiveshell.py\", line 3135, in run_cell_async\n    has_raised = await self.run_ast_nodes(code_ast.body, cell_name,\n  File \"/home/xuhao/.local/lib/python3.8/site-packages/IPython/core/interactiveshell.py\", line 3338, in run_ast_nodes\n    if await self.run_code(code, result, async_=asy):\n  File \"/home/xuhao/.local/lib/python3.8/site-packages/IPython/core/interactiveshell.py\", line 3398, in run_code\n    exec(code_obj, self.user_global_ns, self.user_ns)\n  File \"/tmp/ipykernel_11759/3652496021.py\", line 3, in <cell line: 3>\n    xs = [ti.field(dtype=ti.i32), ti.field(dtype=ti.i32)]\n============================================\nPlease consider specifying a shape for them. E.g.,\n\n  x = ti.field(float, shape=(2, 3))",
     "output_type": "error",
     "traceback": [
      "\u001b[0;31m---------------------------------------------------------------------------\u001b[0m",
      "\u001b[0;31mRuntimeError\u001b[0m                              Traceback (most recent call last)",
      "\u001b[1;32m/home/xuhao/d2slam_ws/src/TaichiSLAM/tests/test.ipynb Cell 3'\u001b[0m in \u001b[0;36m<cell line: 7>\u001b[0;34m()\u001b[0m\n\u001b[1;32m      <a href='vscode-notebook-cell:/home/xuhao/d2slam_ws/src/TaichiSLAM/tests/test.ipynb#ch0000009?line=3'>4</a>\u001b[0m B0 \u001b[39m=\u001b[39m ti\u001b[39m.\u001b[39mroot\u001b[39m.\u001b[39mpointer(ti\u001b[39m.\u001b[39mi, (\u001b[39m2\u001b[39m))\u001b[39m.\u001b[39mpointer(ti\u001b[39m.\u001b[39mjkl, (\u001b[39m2\u001b[39m, \u001b[39m2\u001b[39m, \u001b[39m2\u001b[39m))\u001b[39m.\u001b[39mdense(ti\u001b[39m.\u001b[39mijkl, (\u001b[39m1\u001b[39m,\u001b[39m2\u001b[39m,\u001b[39m2\u001b[39m, \u001b[39m2\u001b[39m))\n\u001b[1;32m      <a href='vscode-notebook-cell:/home/xuhao/d2slam_ws/src/TaichiSLAM/tests/test.ipynb#ch0000009?line=4'>5</a>\u001b[0m B0\u001b[39m.\u001b[39mplace(xs[\u001b[39m0\u001b[39m])\n\u001b[0;32m----> <a href='vscode-notebook-cell:/home/xuhao/d2slam_ws/src/TaichiSLAM/tests/test.ipynb#ch0000009?line=6'>7</a>\u001b[0m xs[\u001b[39m0\u001b[39m][\u001b[39m0\u001b[39m, \u001b[39m2\u001b[39m, \u001b[39m2\u001b[39m, \u001b[39m2\u001b[39m] \u001b[39m=\u001b[39m \u001b[39m100\u001b[39m\n\u001b[1;32m      <a href='vscode-notebook-cell:/home/xuhao/d2slam_ws/src/TaichiSLAM/tests/test.ipynb#ch0000009?line=7'>8</a>\u001b[0m \u001b[39m# print(x)\u001b[39;00m\n\u001b[1;32m      <a href='vscode-notebook-cell:/home/xuhao/d2slam_ws/src/TaichiSLAM/tests/test.ipynb#ch0000009?line=8'>9</a>\u001b[0m \u001b[39m@ti\u001b[39m\u001b[39m.\u001b[39mkernel\n\u001b[1;32m     <a href='vscode-notebook-cell:/home/xuhao/d2slam_ws/src/TaichiSLAM/tests/test.ipynb#ch0000009?line=9'>10</a>\u001b[0m \u001b[39mdef\u001b[39;00m \u001b[39mtest\u001b[39m():\n",
      "File \u001b[0;32m~/anaconda3/lib/python3.8/site-packages/taichi/lang/util.py:297\u001b[0m, in \u001b[0;36mpython_scope.<locals>.wrapped\u001b[0;34m(*args, **kwargs)\u001b[0m\n\u001b[1;32m    293\u001b[0m \u001b[39m@functools\u001b[39m\u001b[39m.\u001b[39mwraps(func)\n\u001b[1;32m    294\u001b[0m \u001b[39mdef\u001b[39;00m \u001b[39mwrapped\u001b[39m(\u001b[39m*\u001b[39margs, \u001b[39m*\u001b[39m\u001b[39m*\u001b[39mkwargs):\n\u001b[1;32m    295\u001b[0m     \u001b[39massert\u001b[39;00m in_python_scope(), \\\n\u001b[1;32m    296\u001b[0m             \u001b[39mf\u001b[39m\u001b[39m'\u001b[39m\u001b[39m{\u001b[39;00mfunc\u001b[39m.\u001b[39m\u001b[39m__name__\u001b[39m\u001b[39m}\u001b[39;00m\u001b[39m cannot be called in Taichi-scope\u001b[39m\u001b[39m'\u001b[39m\n\u001b[0;32m--> 297\u001b[0m     \u001b[39mreturn\u001b[39;00m func(\u001b[39m*\u001b[39;49margs, \u001b[39m*\u001b[39;49m\u001b[39m*\u001b[39;49mkwargs)\n",
      "File \u001b[0;32m~/anaconda3/lib/python3.8/site-packages/taichi/lang/field.py:353\u001b[0m, in \u001b[0;36mScalarField.__setitem__\u001b[0;34m(self, key, value)\u001b[0m\n\u001b[1;32m    351\u001b[0m \u001b[39m@python_scope\u001b[39m\n\u001b[1;32m    352\u001b[0m \u001b[39mdef\u001b[39;00m \u001b[39m__setitem__\u001b[39m(\u001b[39mself\u001b[39m, key, value):\n\u001b[0;32m--> 353\u001b[0m     \u001b[39mself\u001b[39;49m\u001b[39m.\u001b[39;49m_initialize_host_accessors()\n\u001b[1;32m    354\u001b[0m     \u001b[39mself\u001b[39m\u001b[39m.\u001b[39mhost_accessors[\u001b[39m0\u001b[39m]\u001b[39m.\u001b[39msetter(value, \u001b[39m*\u001b[39m\u001b[39mself\u001b[39m\u001b[39m.\u001b[39m_pad_key(key))\n",
      "File \u001b[0;32m~/anaconda3/lib/python3.8/site-packages/taichi/lang/field.py:265\u001b[0m, in \u001b[0;36mField._initialize_host_accessors\u001b[0;34m(self)\u001b[0m\n\u001b[1;32m    263\u001b[0m \u001b[39mif\u001b[39;00m \u001b[39mself\u001b[39m\u001b[39m.\u001b[39mhost_accessors:\n\u001b[1;32m    264\u001b[0m     \u001b[39mreturn\u001b[39;00m\n\u001b[0;32m--> 265\u001b[0m taichi\u001b[39m.\u001b[39;49mlang\u001b[39m.\u001b[39;49mimpl\u001b[39m.\u001b[39;49mget_runtime()\u001b[39m.\u001b[39;49mmaterialize()\n\u001b[1;32m    266\u001b[0m \u001b[39mself\u001b[39m\u001b[39m.\u001b[39mhost_accessors \u001b[39m=\u001b[39m [\n\u001b[1;32m    267\u001b[0m     SNodeHostAccessor(e\u001b[39m.\u001b[39mptr\u001b[39m.\u001b[39msnode()) \u001b[39mfor\u001b[39;00m e \u001b[39min\u001b[39;00m \u001b[39mself\u001b[39m\u001b[39m.\u001b[39mvars\n\u001b[1;32m    268\u001b[0m ]\n",
      "File \u001b[0;32m~/anaconda3/lib/python3.8/site-packages/taichi/lang/impl.py:319\u001b[0m, in \u001b[0;36mPyTaichi.materialize\u001b[0;34m(self)\u001b[0m\n\u001b[1;32m    316\u001b[0m \u001b[39mself\u001b[39m\u001b[39m.\u001b[39mmaterialize_root_fb(\u001b[39mnot\u001b[39;00m \u001b[39mself\u001b[39m\u001b[39m.\u001b[39mmaterialized)\n\u001b[1;32m    317\u001b[0m \u001b[39mself\u001b[39m\u001b[39m.\u001b[39mmaterialized \u001b[39m=\u001b[39m \u001b[39mTrue\u001b[39;00m\n\u001b[0;32m--> 319\u001b[0m \u001b[39mself\u001b[39;49m\u001b[39m.\u001b[39;49m_check_field_not_placed()\n\u001b[1;32m    320\u001b[0m \u001b[39mself\u001b[39m\u001b[39m.\u001b[39m_check_matrix_field_member_shape()\n\u001b[1;32m    321\u001b[0m \u001b[39mself\u001b[39m\u001b[39m.\u001b[39m_calc_matrix_field_dynamic_index_stride()\n",
      "File \u001b[0;32m~/anaconda3/lib/python3.8/site-packages/taichi/lang/impl.py:293\u001b[0m, in \u001b[0;36mPyTaichi._check_field_not_placed\u001b[0;34m(self)\u001b[0m\n\u001b[1;32m    291\u001b[0m \u001b[39mif\u001b[39;00m \u001b[39mlen\u001b[39m(not_placed):\n\u001b[1;32m    292\u001b[0m     bar \u001b[39m=\u001b[39m \u001b[39m'\u001b[39m\u001b[39m=\u001b[39m\u001b[39m'\u001b[39m \u001b[39m*\u001b[39m \u001b[39m44\u001b[39m \u001b[39m+\u001b[39m \u001b[39m'\u001b[39m\u001b[39m\\n\u001b[39;00m\u001b[39m'\u001b[39m\n\u001b[0;32m--> 293\u001b[0m     \u001b[39mraise\u001b[39;00m \u001b[39mRuntimeError\u001b[39;00m(\n\u001b[1;32m    294\u001b[0m         \u001b[39mf\u001b[39m\u001b[39m'\u001b[39m\u001b[39mThese field(s) are not placed:\u001b[39m\u001b[39m\\n\u001b[39;00m\u001b[39m{\u001b[39;00mbar\u001b[39m}\u001b[39;00m\u001b[39m'\u001b[39m \u001b[39m+\u001b[39m\n\u001b[1;32m    295\u001b[0m         \u001b[39mf\u001b[39m\u001b[39m'\u001b[39m\u001b[39m{\u001b[39;00mbar\u001b[39m}\u001b[39;00m\u001b[39m'\u001b[39m\u001b[39m.\u001b[39mjoin(not_placed) \u001b[39m+\u001b[39m\n\u001b[1;32m    296\u001b[0m         \u001b[39mf\u001b[39m\u001b[39m'\u001b[39m\u001b[39m{\u001b[39;00mbar\u001b[39m}\u001b[39;00m\u001b[39mPlease consider specifying a shape for them. E.g.,\u001b[39m\u001b[39m'\u001b[39m \u001b[39m+\u001b[39m\n\u001b[1;32m    297\u001b[0m         \u001b[39m'\u001b[39m\u001b[39m\\n\u001b[39;00m\u001b[39m\\n\u001b[39;00m\u001b[39m  x = ti.field(float, shape=(2, 3))\u001b[39m\u001b[39m'\u001b[39m)\n",
      "\u001b[0;31mRuntimeError\u001b[0m: These field(s) are not placed:\n============================================\n  File \"/home/xuhao/anaconda3/lib/python3.8/runpy.py\", line 194, in _run_module_as_main\n    return _run_code(code, main_globals, None,\n  File \"/home/xuhao/anaconda3/lib/python3.8/runpy.py\", line 87, in _run_code\n    exec(code, run_globals)\n  File \"/home/xuhao/.local/lib/python3.8/site-packages/ipykernel_launcher.py\", line 17, in <module>\n    app.launch_new_instance()\n  File \"/home/xuhao/.local/lib/python3.8/site-packages/traitlets/config/application.py\", line 976, in launch_instance\n    app.start()\n  File \"/home/xuhao/.local/lib/python3.8/site-packages/ipykernel/kernelapp.py\", line 712, in start\n    self.io_loop.start()\n  File \"/home/xuhao/.local/lib/python3.8/site-packages/tornado/platform/asyncio.py\", line 199, in start\n    self.asyncio_loop.run_forever()\n  File \"/home/xuhao/anaconda3/lib/python3.8/asyncio/base_events.py\", line 570, in run_forever\n    self._run_once()\n  File \"/home/xuhao/anaconda3/lib/python3.8/asyncio/base_events.py\", line 1859, in _run_once\n    handle._run()\n  File \"/home/xuhao/anaconda3/lib/python3.8/asyncio/events.py\", line 81, in _run\n    self._context.run(self._callback, *self._args)\n  File \"/home/xuhao/.local/lib/python3.8/site-packages/ipykernel/kernelbase.py\", line 504, in dispatch_queue\n    await self.process_one()\n  File \"/home/xuhao/.local/lib/python3.8/site-packages/ipykernel/kernelbase.py\", line 493, in process_one\n    await dispatch(*args)\n  File \"/home/xuhao/.local/lib/python3.8/site-packages/ipykernel/kernelbase.py\", line 400, in dispatch_shell\n    await result\n  File \"/home/xuhao/.local/lib/python3.8/site-packages/ipykernel/kernelbase.py\", line 724, in execute_request\n    reply_content = await reply_content\n  File \"/home/xuhao/.local/lib/python3.8/site-packages/ipykernel/ipkernel.py\", line 383, in do_execute\n    res = shell.run_cell(\n  File \"/home/xuhao/.local/lib/python3.8/site-packages/ipykernel/zmqshell.py\", line 528, in run_cell\n    return super().run_cell(*args, **kwargs)\n  File \"/home/xuhao/.local/lib/python3.8/site-packages/IPython/core/interactiveshell.py\", line 2881, in run_cell\n    result = self._run_cell(\n  File \"/home/xuhao/.local/lib/python3.8/site-packages/IPython/core/interactiveshell.py\", line 2936, in _run_cell\n    return runner(coro)\n  File \"/home/xuhao/.local/lib/python3.8/site-packages/IPython/core/async_helpers.py\", line 129, in _pseudo_sync_runner\n    coro.send(None)\n  File \"/home/xuhao/.local/lib/python3.8/site-packages/IPython/core/interactiveshell.py\", line 3135, in run_cell_async\n    has_raised = await self.run_ast_nodes(code_ast.body, cell_name,\n  File \"/home/xuhao/.local/lib/python3.8/site-packages/IPython/core/interactiveshell.py\", line 3338, in run_ast_nodes\n    if await self.run_code(code, result, async_=asy):\n  File \"/home/xuhao/.local/lib/python3.8/site-packages/IPython/core/interactiveshell.py\", line 3398, in run_code\n    exec(code_obj, self.user_global_ns, self.user_ns)\n  File \"/tmp/ipykernel_11759/2236958440.py\", line 3, in <cell line: 3>\n    xs = [ti.field(dtype=ti.i32), ti.field(dtype=ti.i32)]\n============================================\n  File \"/home/xuhao/anaconda3/lib/python3.8/runpy.py\", line 194, in _run_module_as_main\n    return _run_code(code, main_globals, None,\n  File \"/home/xuhao/anaconda3/lib/python3.8/runpy.py\", line 87, in _run_code\n    exec(code, run_globals)\n  File \"/home/xuhao/.local/lib/python3.8/site-packages/ipykernel_launcher.py\", line 17, in <module>\n    app.launch_new_instance()\n  File \"/home/xuhao/.local/lib/python3.8/site-packages/traitlets/config/application.py\", line 976, in launch_instance\n    app.start()\n  File \"/home/xuhao/.local/lib/python3.8/site-packages/ipykernel/kernelapp.py\", line 712, in start\n    self.io_loop.start()\n  File \"/home/xuhao/.local/lib/python3.8/site-packages/tornado/platform/asyncio.py\", line 199, in start\n    self.asyncio_loop.run_forever()\n  File \"/home/xuhao/anaconda3/lib/python3.8/asyncio/base_events.py\", line 570, in run_forever\n    self._run_once()\n  File \"/home/xuhao/anaconda3/lib/python3.8/asyncio/base_events.py\", line 1859, in _run_once\n    handle._run()\n  File \"/home/xuhao/anaconda3/lib/python3.8/asyncio/events.py\", line 81, in _run\n    self._context.run(self._callback, *self._args)\n  File \"/home/xuhao/.local/lib/python3.8/site-packages/ipykernel/kernelbase.py\", line 504, in dispatch_queue\n    await self.process_one()\n  File \"/home/xuhao/.local/lib/python3.8/site-packages/ipykernel/kernelbase.py\", line 493, in process_one\n    await dispatch(*args)\n  File \"/home/xuhao/.local/lib/python3.8/site-packages/ipykernel/kernelbase.py\", line 400, in dispatch_shell\n    await result\n  File \"/home/xuhao/.local/lib/python3.8/site-packages/ipykernel/kernelbase.py\", line 724, in execute_request\n    reply_content = await reply_content\n  File \"/home/xuhao/.local/lib/python3.8/site-packages/ipykernel/ipkernel.py\", line 383, in do_execute\n    res = shell.run_cell(\n  File \"/home/xuhao/.local/lib/python3.8/site-packages/ipykernel/zmqshell.py\", line 528, in run_cell\n    return super().run_cell(*args, **kwargs)\n  File \"/home/xuhao/.local/lib/python3.8/site-packages/IPython/core/interactiveshell.py\", line 2881, in run_cell\n    result = self._run_cell(\n  File \"/home/xuhao/.local/lib/python3.8/site-packages/IPython/core/interactiveshell.py\", line 2936, in _run_cell\n    return runner(coro)\n  File \"/home/xuhao/.local/lib/python3.8/site-packages/IPython/core/async_helpers.py\", line 129, in _pseudo_sync_runner\n    coro.send(None)\n  File \"/home/xuhao/.local/lib/python3.8/site-packages/IPython/core/interactiveshell.py\", line 3135, in run_cell_async\n    has_raised = await self.run_ast_nodes(code_ast.body, cell_name,\n  File \"/home/xuhao/.local/lib/python3.8/site-packages/IPython/core/interactiveshell.py\", line 3338, in run_ast_nodes\n    if await self.run_code(code, result, async_=asy):\n  File \"/home/xuhao/.local/lib/python3.8/site-packages/IPython/core/interactiveshell.py\", line 3398, in run_code\n    exec(code_obj, self.user_global_ns, self.user_ns)\n  File \"/tmp/ipykernel_11759/3652496021.py\", line 3, in <cell line: 3>\n    xs = [ti.field(dtype=ti.i32), ti.field(dtype=ti.i32)]\n============================================\nPlease consider specifying a shape for them. E.g.,\n\n  x = ti.field(float, shape=(2, 3))"
     ]
    }
   ],
   "source": [
    "# B = ti.root.pointer(ti.i, 10)\n",
    "# B1 = B.pointer(ti.j, 10)\n",
    "x = ti.field(dtype=ti.i32)\n",
    "B0 = ti.root.pointer(ti.i, (2)).pointer(ti.jkl, (2, 2, 2)).dense(ti.ijkl, (1,2,2, 2))\n",
    "B0.place(x)\n",
    "\n",
    "x[0, 2, 2, 2] = 100\n",
    "# print(x)\n",
    "@ti.kernel\n",
    "def test():\n",
    "    print(\"active\", ti.is_active(B0, [0, 2, 2]))\n",
    "    for i ,j , k in x:\n",
    "        print(i, j, k)\n",
    "test()\n",
    "B0.deactivate_all()\n",
    "test()\n",
    "# print(x)\n",
    "print(x[0, 2, 2])\n"
   ]
  },
  {
   "cell_type": "code",
   "execution_count": 3,
   "metadata": {},
   "outputs": [
    {
     "name": "stdout",
     "output_type": "stream",
     "text": [
      "1 0 0\n",
      "1 0 1\n",
      "1 1 0\n",
      "x[0, 2, 2, 2]\n",
      "1 1 1\n",
      "100\n"
     ]
    }
   ],
   "source": [
    "# B = ti.root.pointer(ti.i, 10)\n",
    "# B1 = B.pointer(ti.j, 10)\n",
    "#xs = [ti.field(dtype=ti.i32), ti.field(dtype=ti.i32)]\n",
    "xs = {\"a\":ti.field(dtype=ti.i32)}\n",
    "B0 = ti.root.pointer(ti.ijk, (2, 2, 2)).dense(ti.ijk, (1, 2, 2))\n",
    "B0.place(xs[\"a\"])\n",
    "\n",
    "xs[\"a\"][1, 1, 1] = 100\n",
    "# print(x)\n",
    "@ti.kernel\n",
    "def test():\n",
    "    for i ,j , k in xs[\"a\"]:\n",
    "        print(i, j, k)\n",
    "test()\n",
    "print(\"x[0, 2, 2, 2]\")\n",
    "print(xs[\"a\"][1, 1, 1])"
   ]
  },
  {
   "cell_type": "code",
   "execution_count": 2,
   "metadata": {},
   "outputs": [
    {
     "name": "stdout",
     "output_type": "stream",
     "text": [
      "1 0 0\n",
      "1 0 1\n",
      "1 1 0\n",
      "1 1 1\n",
      "x[0, 2, 2, 2]\n",
      "0\n"
     ]
    }
   ],
   "source": [
    "# B = ti.root.pointer(ti.i, 10)\n",
    "# B1 = B.pointer(ti.j, 10)\n",
    "#xs = [ti.field(dtype=ti.i32), ti.field(dtype=ti.i32)]\n",
    "x = ti.field(dtype=ti.i32)\n",
    "B0 = ti.root.pointer(ti.ijk, (2, 2, 2)).dense(ti.ijk, (1, 2, 2))\n",
    "B0.place(x)\n",
    "\n",
    "x[1, 1, 1] = 100\n",
    "# print(x)\n",
    "@ti.kernel\n",
    "def test():\n",
    "    for i ,j , k in x:\n",
    "        print(i, j, k)\n",
    "test()\n",
    "print(\"x[0, 2, 2, 2]\")\n",
    "print(x[0, 1, 1])"
   ]
  },
  {
   "cell_type": "code",
   "execution_count": null,
   "metadata": {},
   "outputs": [],
   "source": []
  }
 ],
 "metadata": {
  "kernelspec": {
   "display_name": "Python 3.8.5 ('base')",
   "language": "python",
   "name": "python3"
  },
  "language_info": {
   "codemirror_mode": {
    "name": "ipython",
    "version": 3
   },
   "file_extension": ".py",
   "mimetype": "text/x-python",
   "name": "python",
   "nbconvert_exporter": "python",
   "pygments_lexer": "ipython3",
   "version": "3.8.5"
  },
  "orig_nbformat": 4,
  "vscode": {
   "interpreter": {
    "hash": "08ce52785f0fedc81003ce387e097a83d6cc9494681cd746006386992005bb71"
   }
  }
 },
 "nbformat": 4,
 "nbformat_minor": 2
}
